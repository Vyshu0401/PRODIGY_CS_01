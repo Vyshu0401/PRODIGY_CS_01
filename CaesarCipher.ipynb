{
  "nbformat": 4,
  "nbformat_minor": 0,
  "metadata": {
    "colab": {
      "provenance": [],
      "authorship_tag": "ABX9TyNYXchIMls9s0i+0F0LKEZB",
      "include_colab_link": true
    },
    "kernelspec": {
      "name": "python3",
      "display_name": "Python 3"
    },
    "language_info": {
      "name": "python"
    }
  },
  "cells": [
    {
      "cell_type": "markdown",
      "metadata": {
        "id": "view-in-github",
        "colab_type": "text"
      },
      "source": [
        "<a href=\"https://colab.research.google.com/github/Vyshu0401/PRODIGY_CS_01/blob/main/CaesarCipher.ipynb\" target=\"_parent\"><img src=\"https://colab.research.google.com/assets/colab-badge.svg\" alt=\"Open In Colab\"/></a>"
      ]
    },
    {
      "cell_type": "code",
      "execution_count": null,
      "metadata": {
        "id": "5IRnIVob-3E3"
      },
      "outputs": [],
      "source": [
        "def caesar_cipher(text, shift):\n",
        "  result = \"\"\n",
        "  for char in text:\n",
        "    if char.isalpha():\n",
        "      # Determine the starting index of the alphabet (A or a)\n",
        "      if char.isupper():\n",
        "        start = ord('A')\n",
        "      else:\n",
        "        start = ord('a')\n",
        "\n",
        "      # Calculate the shifted index\n",
        "      shifted_index = (ord(char) - start + shift) % 26 + start\n",
        "\n",
        "      # Convert the shifted index back to a character\n",
        "      result += chr(shifted_index)\n",
        "    else:\n",
        "      result += char\n",
        "  return result\n",
        "\n",
        "# Get user input\n",
        "message = input(\"Enter the message: \")\n",
        "shift = int(input(\"Enter the shift value: \"))\n",
        "\n",
        "# Perform encryption and decryption\n",
        "encrypted_message = caesar_cipher(message, shift)\n",
        "decrypted_message = caesar_cipher(encrypted_message, -shift)\n",
        "\n",
        "# Print the results\n",
        "print(\"Encrypted message:\", encrypted_message)\n",
        "print(\"Decrypted message:\", decrypted_message)"
      ]
    }
  ]
}